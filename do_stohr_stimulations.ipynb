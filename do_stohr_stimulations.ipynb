{
 "cells": [
  {
   "cell_type": "markdown",
   "metadata": {},
   "source": [
    "xbloch simulations with stohr&scherz enhancement factor"
   ]
  },
  {
   "cell_type": "code",
   "execution_count": 2,
   "metadata": {},
   "outputs": [],
   "source": [
    "from LB51.xbloch import sase_sim\n",
    "from LB51.xbloch import do_xbloch_sim\n",
    "from LB51.xbloch import enhancement_xbloch2020\n",
    "\n",
    "from typing import List\n",
    "import numpy as np \n",
    "import matplotlib.pyplot as plt\n",
    "from joblib import Parallel, delayed\n",
    "\n",
    "N_PULSES = 20    # 20 for manuscript\n",
    "N_TIME_POINTS = int(5e4)    # 5e4 for manuscript plot"
   ]
  },
  {
   "cell_type": "code",
   "execution_count": 3,
   "metadata": {},
   "outputs": [
    {
     "name": "stdout",
     "output_type": "stream",
     "text": [
      "Automatic pdb calling has been turned ON\n"
     ]
    }
   ],
   "source": [
    "%pdb\n",
    "times_5fs = np.linspace(-25, 50, N_TIME_POINTS)\n",
    "E_in_list = [sase_sim.simulate_gaussian(5.0, times=times_5fs)[1] for _ in range(N_PULSES)]"
   ]
  },
  {
   "cell_type": "code",
   "execution_count": 1,
   "metadata": {},
   "outputs": [
    {
     "ename": "NameError",
     "evalue": "name 'do_xbloch_sim' is not defined",
     "output_type": "error",
     "traceback": [
      "\u001b[0;31m---------------------------------------------------------------------------\u001b[0m",
      "\u001b[0;31mNameError\u001b[0m                                 Traceback (most recent call last)",
      "\u001b[0;32m<ipython-input-1-df07709a8469>\u001b[0m in \u001b[0;36m<module>\u001b[0;34m\u001b[0m\n\u001b[0;32m----> 1\u001b[0;31m \u001b[0msummary_result\u001b[0m \u001b[0;34m=\u001b[0m \u001b[0mdo_xbloch_sim\u001b[0m\u001b[0;34m.\u001b[0m\u001b[0msimulate_multipulse_series\u001b[0m\u001b[0;34m(\u001b[0m\u001b[0mtimes_5fs\u001b[0m\u001b[0;34m,\u001b[0m \u001b[0mE_in_list\u001b[0m\u001b[0;34m,\u001b[0m \u001b[0menhanced\u001b[0m\u001b[0;34m=\u001b[0m\u001b[0;32mTrue\u001b[0m\u001b[0;34m)\u001b[0m\u001b[0;34m\u001b[0m\u001b[0;34m\u001b[0m\u001b[0m\n\u001b[0m",
      "\u001b[0;31mNameError\u001b[0m: name 'do_xbloch_sim' is not defined"
     ]
    }
   ],
   "source": [
    "summary_result = do_xbloch_sim.simulate_multipulse_series(times_5fs, E_in_list, enhanced=True)"
   ]
  },
  {
   "cell_type": "code",
   "execution_count": null,
   "metadata": {},
   "outputs": [],
   "source": [
    "# save result to pickle for future reference\n",
    "import pickle\n",
    "\n",
    "results_file = 'LB51/xbloch/results/enhanced_5fs.pickle'\n",
    "with open(results_file, 'wb') as f:\n",
    "    pickle.dump(summary_result, f)"
   ]
  },
  {
   "cell_type": "code",
   "execution_count": null,
   "metadata": {},
   "outputs": [
    {
     "ename": "NameError",
     "evalue": "name 'results_file' is not defined",
     "output_type": "error",
     "traceback": [
      "\u001b[0;31m---------------------------------------------------------------------------\u001b[0m",
      "\u001b[0;31mNameError\u001b[0m                                 Traceback (most recent call last)",
      "\u001b[0;32m<ipython-input-4-c4dd26ece674>\u001b[0m in \u001b[0;36m<module>\u001b[0;34m\u001b[0m\n\u001b[1;32m      1\u001b[0m \u001b[0;31m# load result\u001b[0m\u001b[0;34m\u001b[0m\u001b[0;34m\u001b[0m\u001b[0;34m\u001b[0m\u001b[0m\n\u001b[0;32m----> 2\u001b[0;31m \u001b[0;32mwith\u001b[0m \u001b[0mopen\u001b[0m\u001b[0;34m(\u001b[0m\u001b[0mresults_file\u001b[0m\u001b[0;34m,\u001b[0m \u001b[0;34m'rb'\u001b[0m\u001b[0;34m)\u001b[0m \u001b[0;32mas\u001b[0m \u001b[0mf\u001b[0m\u001b[0;34m:\u001b[0m\u001b[0;34m\u001b[0m\u001b[0;34m\u001b[0m\u001b[0m\n\u001b[0m\u001b[1;32m      3\u001b[0m     \u001b[0mloaded_result\u001b[0m \u001b[0;34m=\u001b[0m \u001b[0mpickle\u001b[0m\u001b[0;34m.\u001b[0m\u001b[0mload\u001b[0m\u001b[0;34m(\u001b[0m\u001b[0mf\u001b[0m\u001b[0;34m)\u001b[0m\u001b[0;34m\u001b[0m\u001b[0;34m\u001b[0m\u001b[0m\n",
      "\u001b[0;31mNameError\u001b[0m: name 'results_file' is not defined"
     ]
    },
    {
     "name": "stdout",
     "output_type": "stream",
     "text": [
      "> \u001b[0;32m<ipython-input-4-c4dd26ece674>\u001b[0m(2)\u001b[0;36m<module>\u001b[0;34m()\u001b[0m\n",
      "\u001b[0;32m      1 \u001b[0;31m\u001b[0;31m# load result\u001b[0m\u001b[0;34m\u001b[0m\u001b[0;34m\u001b[0m\u001b[0;34m\u001b[0m\u001b[0m\n",
      "\u001b[0m\u001b[0;32m----> 2 \u001b[0;31m\u001b[0;32mwith\u001b[0m \u001b[0mopen\u001b[0m\u001b[0;34m(\u001b[0m\u001b[0mresults_file\u001b[0m\u001b[0;34m,\u001b[0m \u001b[0;34m'rb'\u001b[0m\u001b[0;34m)\u001b[0m \u001b[0;32mas\u001b[0m \u001b[0mf\u001b[0m\u001b[0;34m:\u001b[0m\u001b[0;34m\u001b[0m\u001b[0;34m\u001b[0m\u001b[0m\n",
      "\u001b[0m\u001b[0;32m      3 \u001b[0;31m    \u001b[0mloaded_result\u001b[0m \u001b[0;34m=\u001b[0m \u001b[0mpickle\u001b[0m\u001b[0;34m.\u001b[0m\u001b[0mload\u001b[0m\u001b[0;34m(\u001b[0m\u001b[0mf\u001b[0m\u001b[0;34m)\u001b[0m\u001b[0;34m\u001b[0m\u001b[0;34m\u001b[0m\u001b[0m\n",
      "\u001b[0m\n"
     ]
    }
   ],
   "source": [
    "# load result\n",
    "with open(results_file, 'rb') as f:\n",
    "    loaded_result = pickle.load(f)"
   ]
  },
  {
   "cell_type": "code",
   "execution_count": null,
   "metadata": {},
   "outputs": [],
   "source": [
    "%matplotlib auto\n",
    "\n",
    "for i, fluence in enumerate(summary_result['fluences']):\n",
    "    plt.plot((loaded_result['summed_transmitted_intensities'][i]-loaded_result['summed_incident_intensities'][i])/loaded_result['fluences'][i], label=str(fluence))\n",
    "plt.legend(loc='best')"
   ]
  },
  {
   "cell_type": "code",
   "execution_count": null,
   "metadata": {},
   "outputs": [],
   "source": [
    "# Make plot to put in manuscript\n",
    "from LB51.manuscript_plots import set_plot_params\n",
    "set_plot_params.init_paper_small()\n",
    "\n",
    "f, axs = plt.subplots(2, 1, sharex=True, figsize=(3.37, 3.5))\n",
    "incident = loaded_result['summed_incident_intensities'][0]\n",
    "incident = incident/np.amax(incident)\n",
    "axs[0].plot(loaded_result['phot'], incident)\n",
    "inds_to_plot = [0, -7, -5, -3]\n",
    "for i in inds_to_plot:\n",
    "    intensity_difference = (loaded_result['summed_transmitted_intensities'][i]-loaded_result['summed_incident_intensities'][i])/loaded_result['fluences'][i]\n",
    "    if i == 0:\n",
    "        label = '10 nJ/cm$^2$'\n",
    "        norm = np.amax(np.abs(intensity_difference))\n",
    "    else:\n",
    "        label = str(int(1E3*loaded_result['fluences'][i]))+' mJ/cm$^2$'\n",
    "    axs[1].plot(loaded_result['phot'], intensity_difference/norm, label=label)\n",
    "axs[0].set_xlim((772, 782))\n",
    "axs[0].set_ylabel('Intensity (a.u.)')\n",
    "axs[1].set_ylabel('Intensity (a.u.)')\n",
    "axs[1].set_xlabel('Photon Energy (eV)')\n",
    "axs[1].legend(loc='best', title='Fluence')\n",
    "axs[0].text(\n",
    "    0.9,\n",
    "    0.9,\n",
    "    \"a\",\n",
    "    fontsize=10,\n",
    "    weight=\"bold\",\n",
    "    horizontalalignment=\"center\",\n",
    "    transform=axs[0].transAxes,\n",
    ")\n",
    "axs[1].text(\n",
    "    0.9,\n",
    "    0.1,\n",
    "    \"b\",\n",
    "    fontsize=10,\n",
    "    weight=\"bold\",\n",
    "    horizontalalignment=\"center\",\n",
    "    transform=axs[1].transAxes,\n",
    ")\n",
    "plt.tight_layout()\n",
    "\n",
    "plt.savefig(\"plots/2020_09_18_enhancement_sim_overview.eps\", dpi=600)\n",
    "plt.savefig(\"plots/2020_09_18_enhancement_sim_overview.png\", dpi=600)"
   ]
  },
  {
   "cell_type": "code",
   "execution_count": null,
   "metadata": {},
   "outputs": [],
   "source": [
    "# make example plot of enhancement factor calculations\n",
    "from LB51.xbloch import stohr_enhancement\n",
    "intensities = np.logspace(9, 17, int(1E3))\n",
    "factors = stohr_enhancement.calculate_factors(intensities)\n",
    "plt.figure()\n",
    "plt.semilogx(intensities, factors)\n",
    "plt.xlabel('Intensities (W/cm$^2$)')\n",
    "plt.ylabel('Enhancement Factor')"
   ]
  }
 ],
 "metadata": {
  "kernelspec": {
   "display_name": "Python 3.6.7 64-bit ('base': conda)",
   "language": "python",
   "name": "python36764bitbasecondab70f213098ad414192bfd2ef7368ab2c"
  },
  "language_info": {
   "codemirror_mode": {
    "name": "ipython",
    "version": 3
   },
   "file_extension": ".py",
   "mimetype": "text/x-python",
   "name": "python",
   "nbconvert_exporter": "python",
   "pygments_lexer": "ipython3",
   "version": "3.6.9"
  }
 },
 "nbformat": 4,
 "nbformat_minor": 2
}
