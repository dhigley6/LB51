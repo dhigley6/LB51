{
 "cells": [
  {
   "cell_type": "markdown",
   "metadata": {},
   "source": [
    "xbloch simulations with stohr&scherz enhancement factor"
   ]
  },
  {
   "cell_type": "code",
   "execution_count": 1,
   "metadata": {},
   "outputs": [],
   "source": [
    "from LB51.xbloch import sase_sim\n",
    "from LB51.xbloch import do_xbloch_sim\n",
    "from LB51.xbloch import enhancement_xbloch2020\n",
    "\n",
    "from typing import List\n",
    "import numpy as np \n",
    "import matplotlib.pyplot as plt\n",
    "from joblib import Parallel, delayed\n",
    "import pickle\n",
    "\n",
    "N_PULSES = 20    # 20 for manuscript\n",
    "N_TIME_POINTS = int(5e4)    # 5e4 for manuscript plot"
   ]
  },
  {
   "cell_type": "markdown",
   "metadata": {},
   "source": [
    "## 5 fs Simulations"
   ]
  },
  {
   "cell_type": "code",
   "execution_count": 2,
   "metadata": {},
   "outputs": [
    {
     "name": "stdout",
     "output_type": "stream",
     "text": [
      "Automatic pdb calling has been turned ON\n"
     ]
    }
   ],
   "source": [
    "#%pdb\n",
    "times_5fs = np.linspace(-25, 50, N_TIME_POINTS)\n",
    "E_in_list = [sase_sim.simulate_gaussian(5.0, times=times_5fs)[1] for _ in range(N_PULSES)]"
   ]
  },
  {
   "cell_type": "code",
   "execution_count": 3,
   "metadata": {},
   "outputs": [],
   "source": [
    "summary_result = do_xbloch_sim.simulate_multipulse_series(times_5fs, E_in_list, enhanced=True)"
   ]
  },
  {
   "cell_type": "code",
   "execution_count": 4,
   "metadata": {},
   "outputs": [],
   "source": [
    "# save result to pickle for future reference\n",
    "\n",
    "results_file = 'LB51/xbloch/results/enhanced_5fs.pickle'\n",
    "with open(results_file, 'wb') as f:\n",
    "    pickle.dump(summary_result, f)"
   ]
  },
  {
   "cell_type": "code",
   "execution_count": 5,
   "metadata": {},
   "outputs": [],
   "source": [
    "# load result\n",
    "results_file = 'LB51/xbloch/results/enhanced_5fs.pickle'\n",
    "\n",
    "with open(results_file, 'rb') as f:\n",
    "    loaded_result = pickle.load(f)"
   ]
  },
  {
   "cell_type": "markdown",
   "metadata": {},
   "source": [
    "## 25 fs Simulations"
   ]
  },
  {
   "cell_type": "code",
   "execution_count": 6,
   "metadata": {},
   "outputs": [],
   "source": [
    "times_25fs = np.linspace(-50, 100, int(5e4))\n",
    "E_in_list = [sase_sim.simulate_gaussian(25.0, times=times_25fs)[1] for _ in range(N_PULSES)]"
   ]
  },
  {
   "cell_type": "code",
   "execution_count": 7,
   "metadata": {},
   "outputs": [],
   "source": [
    "summary_result_25fs = do_xbloch_sim.simulate_multipulse_series(times_25fs, E_in_list, enhanced=True)"
   ]
  },
  {
   "cell_type": "code",
   "execution_count": 8,
   "metadata": {},
   "outputs": [],
   "source": [
    "# Save result to pickle for future reference\n",
    "\n",
    "results_file_25fs = 'LB51/xbloch/results/enhanced_25fs.pickle'\n",
    "\n",
    "with open(results_file_25fs, 'wb') as f:\n",
    "    pickle.dump(summary_result_25fs, f)"
   ]
  },
  {
   "cell_type": "code",
   "execution_count": 9,
   "metadata": {},
   "outputs": [],
   "source": [
    "# load result\n",
    "results_file = 'LB51/xbloch/results/enhanced_25fs.pickle'\n",
    "\n",
    "with open(results_file, 'rb') as f:\n",
    "    loaded_result = pickle.load(f)"
   ]
  },
  {
   "cell_type": "markdown",
   "metadata": {},
   "source": [
    "## Plotting"
   ]
  },
  {
   "cell_type": "code",
   "execution_count": 10,
   "metadata": {},
   "outputs": [
    {
     "name": "stdout",
     "output_type": "stream",
     "text": [
      "Using matplotlib backend: MacOSX\n"
     ]
    },
    {
     "data": {
      "text/plain": [
       "<matplotlib.legend.Legend at 0x7f92b7c8a470>"
      ]
     },
     "execution_count": 10,
     "metadata": {},
     "output_type": "execute_result"
    }
   ],
   "source": [
    "%matplotlib auto\n",
    "\n",
    "for i, fluence in enumerate(loaded_result['fluences']):\n",
    "    plt.plot((loaded_result['summed_transmitted_intensities'][i]-loaded_result['summed_incident_intensities'][i])/loaded_result['fluences'][i], label=str(fluence))\n",
    "plt.legend(loc='best')"
   ]
  },
  {
   "cell_type": "code",
   "execution_count": 11,
   "metadata": {},
   "outputs": [
    {
     "data": {
      "text/plain": [
       "Text(0, 0.5, 'Enhancement Factor')"
      ]
     },
     "execution_count": 11,
     "metadata": {},
     "output_type": "execute_result"
    }
   ],
   "source": [
    "# make example plot of enhancement factor calculations\n",
    "from LB51.xbloch import stohr_enhancement\n",
    "intensities = np.logspace(9, 17, int(1E3))\n",
    "factors = stohr_enhancement.calculate_factors(intensities)\n",
    "plt.figure()\n",
    "plt.semilogx(intensities, factors)\n",
    "plt.xlabel('Intensities (W/cm$^2$)')\n",
    "plt.ylabel('Enhancement Factor')"
   ]
  },
  {
   "cell_type": "code",
   "execution_count": 12,
   "metadata": {},
   "outputs": [
    {
     "ename": "AttributeError",
     "evalue": "'str' object has no attribute 'keys'",
     "output_type": "error",
     "traceback": [
      "\u001b[0;31m---------------------------------------------------------------------------\u001b[0m",
      "\u001b[0;31mAttributeError\u001b[0m                            Traceback (most recent call last)",
      "\u001b[0;32m<ipython-input-12-86759513fc63>\u001b[0m in \u001b[0;36m<module>\u001b[0;34m\u001b[0m\n\u001b[0;32m----> 1\u001b[0;31m \u001b[0mresults_file\u001b[0m\u001b[0;34m.\u001b[0m\u001b[0mkeys\u001b[0m\u001b[0;34m(\u001b[0m\u001b[0;34m)\u001b[0m\u001b[0;34m\u001b[0m\u001b[0;34m\u001b[0m\u001b[0m\n\u001b[0m",
      "\u001b[0;31mAttributeError\u001b[0m: 'str' object has no attribute 'keys'"
     ]
    },
    {
     "name": "stdout",
     "output_type": "stream",
     "text": [
      "> \u001b[0;32m<ipython-input-12-86759513fc63>\u001b[0m(1)\u001b[0;36m<module>\u001b[0;34m()\u001b[0m\n",
      "\u001b[0;32m----> 1 \u001b[0;31m\u001b[0mresults_file\u001b[0m\u001b[0;34m.\u001b[0m\u001b[0mkeys\u001b[0m\u001b[0;34m(\u001b[0m\u001b[0;34m)\u001b[0m\u001b[0;34m\u001b[0m\u001b[0;34m\u001b[0m\u001b[0m\n",
      "\u001b[0m\n",
      "ipdb> exit\n"
     ]
    }
   ],
   "source": [
    "results_file.keys()"
   ]
  },
  {
   "cell_type": "code",
   "execution_count": null,
   "metadata": {},
   "outputs": [],
   "source": [
    "loaded_result.keys()"
   ]
  },
  {
   "cell_type": "code",
   "execution_count": null,
   "metadata": {},
   "outputs": [],
   "source": [
    "plt.plot(loaded_result['fluences'], loaded_result['absorption_losses'])"
   ]
  },
  {
   "cell_type": "code",
   "execution_count": null,
   "metadata": {},
   "outputs": [],
   "source": [
    "ls"
   ]
  },
  {
   "cell_type": "code",
   "execution_count": null,
   "metadata": {},
   "outputs": [],
   "source": [
    "%matplotlib auto\n",
    "from LB51.manuscript_plots import quant2"
   ]
  },
  {
   "cell_type": "code",
   "execution_count": null,
   "metadata": {},
   "outputs": [],
   "source": [
    "quant2.quant2()"
   ]
  },
  {
   "cell_type": "code",
   "execution_count": null,
   "metadata": {},
   "outputs": [],
   "source": [
    "loaded_result.keys()"
   ]
  },
  {
   "cell_type": "code",
   "execution_count": null,
   "metadata": {},
   "outputs": [],
   "source": [
    "plt.figure()\n",
    "for i in range(len(loaded_result['summed_transmitted_intensities'])-1):\n",
    "    intensity_difference = loaded_result['summed_transmitted_intensities'][i]-loaded_result['summed_incident_intensities'][i]\n",
    "    plt.plot(loaded_result['phot'], intensity_difference/loaded_result['fluences'][i])\n",
    "plt.xlim((770, 780))"
   ]
  },
  {
   "cell_type": "code",
   "execution_count": null,
   "metadata": {},
   "outputs": [],
   "source": []
  }
 ],
 "metadata": {
  "kernelspec": {
   "display_name": "Python 3.6.7 64-bit ('base': conda)",
   "language": "python",
   "name": "python36764bitbasecondab70f213098ad414192bfd2ef7368ab2c"
  },
  "language_info": {
   "codemirror_mode": {
    "name": "ipython",
    "version": 3
   },
   "file_extension": ".py",
   "mimetype": "text/x-python",
   "name": "python",
   "nbconvert_exporter": "python",
   "pygments_lexer": "ipython3",
   "version": "3.6.9"
  }
 },
 "nbformat": 4,
 "nbformat_minor": 2
}
